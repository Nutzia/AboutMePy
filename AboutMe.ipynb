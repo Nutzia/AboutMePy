{
 "cells": [
  {
   "cell_type": "markdown",
   "metadata": {},
   "source": [
    "# About Me "
   ]
  },
  {
   "cell_type": "code",
   "execution_count": null,
   "metadata": {},
   "outputs": [],
   "source": [
    "name = \"Nutzia\"\n",
    "age = 30\n",
    "city = \"Begijnendijk\"\n",
    "country = \"Belgium\"\n",
    "whycoding = \"for fun\"\n",
    "otherhobbies = \"climbing and diving\"\n",
    "\n",
    "print(\"\"\"\n",
    "        Hi! My name is %s.\n",
    "        I\\'m %d years old.\n",
    "        I\\'m from %s, %s.\n",
    "        Why I\\'m coding - %s ofcourse!\n",
    "        My other hobies are %s.\n",
    "        What about you?\"\"\" %(name,age,city,country,whycoding,otherhobbies))"
   ]
  },
  {
   "cell_type": "code",
   "execution_count": null,
   "metadata": {},
   "outputs": [],
   "source": [
    "name = input(\"What is your name? \")\n",
    "age = input(\"What is your age? \")\n",
    "address = input(\"Where do you live? \")\n",
    "print(f\"Hi, my name is {name}. I am {age} years old and I live in {address}.\")"
   ]
  }
 ],
 "metadata": {
  "kernelspec": {
   "display_name": "Python 3",
   "language": "python",
   "name": "python3"
  },
  "language_info": {
   "codemirror_mode": {
    "name": "ipython",
    "version": 3
   },
   "file_extension": ".py",
   "mimetype": "text/x-python",
   "name": "python",
   "nbconvert_exporter": "python",
   "pygments_lexer": "ipython3",
   "version": "3.8.5"
  }
 },
 "nbformat": 4,
 "nbformat_minor": 4
}
